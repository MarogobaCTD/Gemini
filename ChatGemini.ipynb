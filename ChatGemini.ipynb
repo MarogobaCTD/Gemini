{
  "nbformat": 4,
  "nbformat_minor": 0,
  "metadata": {
    "colab": {
      "provenance": [],
      "authorship_tag": "ABX9TyOfn1NH6NkE+KS/BWG7+kl3",
      "include_colab_link": true
    },
    "kernelspec": {
      "name": "python3",
      "display_name": "Python 3"
    },
    "language_info": {
      "name": "python"
    }
  },
  "cells": [
    {
      "cell_type": "markdown",
      "metadata": {
        "id": "view-in-github",
        "colab_type": "text"
      },
      "source": [
        "<a href=\"https://colab.research.google.com/github/MarogobaCTD/Gemini/blob/main/ChatGemini.ipynb\" target=\"_parent\"><img src=\"https://colab.research.google.com/assets/colab-badge.svg\" alt=\"Open In Colab\"/></a>"
      ]
    },
    {
      "cell_type": "markdown",
      "source": [
        "Instalando o SDK do Google"
      ],
      "metadata": {
        "id": "6d14iLo94pk1"
      }
    },
    {
      "cell_type": "code",
      "execution_count": 1,
      "metadata": {
        "id": "shK5VEhp34mg"
      },
      "outputs": [],
      "source": [
        "!pip install -q -U google-generativeai"
      ]
    },
    {
      "cell_type": "code",
      "source": [
        "import google.generativeai as genai\n",
        "from google.colab import userdata\n",
        "api_key = userdata.get('SECRET_KEY')\n",
        "genai.configure(api_key=api_key)"
      ],
      "metadata": {
        "id": "rJbU3PRJ43Ga"
      },
      "execution_count": 15,
      "outputs": []
    },
    {
      "cell_type": "markdown",
      "source": [
        "Listar os modelos disponíveis"
      ],
      "metadata": {
        "id": "KfLPLaDL5BvP"
      }
    },
    {
      "cell_type": "code",
      "source": [
        "for m in genai.list_models():\n",
        "  if 'generateContent' in m.supported_generation_methods:\n",
        "    print(m.name)"
      ],
      "metadata": {
        "colab": {
          "base_uri": "https://localhost:8080/",
          "height": 139
        },
        "id": "OvCot83d4-_P",
        "outputId": "356acfd6-7374-4c39-d716-07c7edeb8e2d"
      },
      "execution_count": 3,
      "outputs": [
        {
          "output_type": "stream",
          "name": "stdout",
          "text": [
            "models/gemini-1.0-pro\n",
            "models/gemini-1.0-pro-001\n",
            "models/gemini-1.0-pro-latest\n",
            "models/gemini-1.0-pro-vision-latest\n",
            "models/gemini-1.5-pro-latest\n",
            "models/gemini-pro\n",
            "models/gemini-pro-vision\n"
          ]
        }
      ]
    },
    {
      "cell_type": "markdown",
      "source": [
        "Configurações do prompt"
      ],
      "metadata": {
        "id": "BGCQUbNv8ZFt"
      }
    },
    {
      "cell_type": "code",
      "source": [
        "configuracoes = {\n",
        "  \"candidate_count\": 1,\n",
        "  \"temperature\": 0.5,\n",
        "}"
      ],
      "metadata": {
        "id": "qVDETYuQ7R6X"
      },
      "execution_count": 4,
      "outputs": []
    },
    {
      "cell_type": "code",
      "source": [
        "safety_settings = {\n",
        "    \"HARASSMENT\" : \"Block_none\",\n",
        "    \"HATE\" : \"Block_none\",\n",
        "    \"SEXUAL\" : \"Block_none\",\n",
        "    \"DANGEROUS\" : \"Block_none\",\n",
        "}"
      ],
      "metadata": {
        "id": "4YtF4taR7w4M"
      },
      "execution_count": 5,
      "outputs": []
    },
    {
      "cell_type": "markdown",
      "source": [
        "Inicializando o modelo"
      ],
      "metadata": {
        "id": "B9IBJjYU8dwZ"
      }
    },
    {
      "cell_type": "code",
      "source": [
        "model = genai.GenerativeModel(model_name='gemini-1.0-pro',\n",
        "                              safety_settings=safety_settings,\n",
        "                              generation_config=configuracoes,)"
      ],
      "metadata": {
        "id": "L4yzlSRN8XxS"
      },
      "execution_count": 6,
      "outputs": []
    },
    {
      "cell_type": "code",
      "source": [
        "response = model.generate_content(\"Vamos aprender conteúdo sobre IA. Me dê sugestões.\")\n",
        "print(response.text)"
      ],
      "metadata": {
        "colab": {
          "base_uri": "https://localhost:8080/",
          "height": 781
        },
        "id": "aLbIy0LH-D0e",
        "outputId": "f0df6dff-694d-4cae-940e-7c8e90984923"
      },
      "execution_count": 7,
      "outputs": [
        {
          "output_type": "stream",
          "name": "stdout",
          "text": [
            "**Livros:**\n",
            "\n",
            "* \"Inteligência Artificial: Uma Abordagem Moderna\" por Stuart Russell e Peter Norvig\n",
            "* \"Aprendizado de Máquina\" por Tom Mitchell\n",
            "* \"Aprendizado Profundo\" por Ian Goodfellow, Yoshua Bengio e Aaron Courville\n",
            "* \"Inteligência Artificial para Todos\" por Andrew Ng\n",
            "* \"Inteligência Artificial: Um Guia Prático\" por Melanie Mitchell\n",
            "\n",
            "**Cursos Online:**\n",
            "\n",
            "* **Coursera:**\n",
            "    * Aprendizado de Máquina por Stanford\n",
            "    * Aprendizado Profundo Especialização por DeepLearning.AI\n",
            "    * Inteligência Artificial por Georgia Tech\n",
            "* **edX:**\n",
            "    * Introdução à Inteligência Artificial por MIT\n",
            "    * Aprendizado de Máquina por Microsoft\n",
            "    * Inteligência Artificial por IBM\n",
            "* **Udemy:**\n",
            "    * Curso Completo de Inteligência Artificial e Aprendizado de Máquina\n",
            "    * Curso de Aprendizado Profundo: Construindo Redes Neurais\n",
            "    * Curso de Visão Computacional: Detecção e Reconhecimento de Objetos\n",
            "\n",
            "**Vídeos e Tutoriais:**\n",
            "\n",
            "* **Canal do YouTube da DeepMind:** https://www.youtube.com/channel/UC_728v25329470a32e949w\n",
            "* **Canal do YouTube do Google AI:** https://www.youtube.com/channel/UC0R81g5_w9yXV0UF2g45fug\n",
            "* **Canal do YouTube da OpenAI:** https://www.youtube.com/channel/UCj837J5i239j7n6v848s7Pw\n",
            "* **Tutoriais do Tensorflow:** https://www.tensorflow.org/tutorials\n",
            "* **Tutoriais do PyTorch:** https://pytorch.org/tutorials\n",
            "\n",
            "**Recursos Adicionais:**\n",
            "\n",
            "* **Conferências e Eventos:**\n",
            "    * NeurIPS (Conferência Internacional sobre Processamento de Informação Neural)\n",
            "    * ICML (Conferência Internacional sobre Aprendizado de Máquina)\n",
            "    * CVPR (Conferência sobre Visão e Reconhecimento de Padrões)\n",
            "* **Revistas e Publicações:**\n",
            "    * Journal of Machine Learning Research\n",
            "    * IEEE Transactions on Neural Networks and Learning Systems\n",
            "    * Artificial Intelligence Journal\n",
            "* **Comunidades Online:**\n",
            "    * Stack Overflow (fórum de perguntas e respostas)\n",
            "    * Reddit (subreddits dedicados a IA e aprendizado de máquina)\n"
          ]
        }
      ]
    },
    {
      "cell_type": "code",
      "source": [
        "chat = model.start_chat(history=[])"
      ],
      "metadata": {
        "id": "irP--_EnEJqj"
      },
      "execution_count": 8,
      "outputs": []
    },
    {
      "cell_type": "code",
      "source": [
        "texto = input('Digite a sua pergunta: ')\n",
        "\n",
        "while texto != \"fim\":\n",
        "  response = chat.send_message(texto)\n",
        "  print(response.text)\n",
        "  texto = input('Digite a sua pergunta: ')"
      ],
      "metadata": {
        "colab": {
          "base_uri": "https://localhost:8080/",
          "height": 104
        },
        "id": "8I9Q5PkCEhBX",
        "outputId": "5d949ae3-eac4-41cf-d981-7d100302fbb2"
      },
      "execution_count": 11,
      "outputs": [
        {
          "name": "stdout",
          "output_type": "stream",
          "text": [
            "Digite a sua pergunta: Qual é o maior país da América do Sul\n",
            "Brasil\n",
            "Digite a sua pergunta: quantos habitantes tem esse país\n",
            "215.351.056 (estimativa de julho de 2023)\n",
            "Digite a sua pergunta: fim\n"
          ]
        }
      ]
    },
    {
      "cell_type": "code",
      "source": [
        "#Melhorando a visualização\n",
        "#Código disponível em https://ai.google.dev/tutorials/python_quickstart#import_packages\n",
        "import textwrap\n",
        "from IPython.display import display\n",
        "from IPython.display import Markdown\n",
        "\n",
        "def to_markdown(text):\n",
        "  text = text.replace('•', '  *')\n",
        "  return Markdown(textwrap.indent(text, '> ', predicate=lambda _: True))\n",
        "\n",
        "#Imprimindo o histórico\n",
        "for message in chat.history:\n",
        "  display(to_markdown(f'**{message.role}**: {message.parts[0].text}'))\n",
        "  print('-------------------------------------------')"
      ],
      "metadata": {
        "colab": {
          "base_uri": "https://localhost:8080/",
          "height": 393
        },
        "id": "VGXN2GytJYq4",
        "outputId": "17f2db29-49e1-4d55-80d7-e0d21883ba22"
      },
      "execution_count": 12,
      "outputs": [
        {
          "output_type": "display_data",
          "data": {
            "text/plain": [
              "<IPython.core.display.Markdown object>"
            ],
            "text/markdown": "> **user**: Qual é o maior país da América do Sul"
          },
          "metadata": {}
        },
        {
          "output_type": "stream",
          "name": "stdout",
          "text": [
            "-------------------------------------------\n"
          ]
        },
        {
          "output_type": "display_data",
          "data": {
            "text/plain": [
              "<IPython.core.display.Markdown object>"
            ],
            "text/markdown": "> **model**: Brasil"
          },
          "metadata": {}
        },
        {
          "output_type": "stream",
          "name": "stdout",
          "text": [
            "-------------------------------------------\n"
          ]
        },
        {
          "output_type": "display_data",
          "data": {
            "text/plain": [
              "<IPython.core.display.Markdown object>"
            ],
            "text/markdown": "> **user**: Qual é o maior país da América do Sul"
          },
          "metadata": {}
        },
        {
          "output_type": "stream",
          "name": "stdout",
          "text": [
            "-------------------------------------------\n"
          ]
        },
        {
          "output_type": "display_data",
          "data": {
            "text/plain": [
              "<IPython.core.display.Markdown object>"
            ],
            "text/markdown": "> **model**: Brasil"
          },
          "metadata": {}
        },
        {
          "output_type": "stream",
          "name": "stdout",
          "text": [
            "-------------------------------------------\n"
          ]
        },
        {
          "output_type": "display_data",
          "data": {
            "text/plain": [
              "<IPython.core.display.Markdown object>"
            ],
            "text/markdown": "> **user**: quantos habitantes tem esse país"
          },
          "metadata": {}
        },
        {
          "output_type": "stream",
          "name": "stdout",
          "text": [
            "-------------------------------------------\n"
          ]
        },
        {
          "output_type": "display_data",
          "data": {
            "text/plain": [
              "<IPython.core.display.Markdown object>"
            ],
            "text/markdown": "> **model**: 215.351.056 (estimativa de julho de 2023)"
          },
          "metadata": {}
        },
        {
          "output_type": "stream",
          "name": "stdout",
          "text": [
            "-------------------------------------------\n"
          ]
        }
      ]
    }
  ]
}