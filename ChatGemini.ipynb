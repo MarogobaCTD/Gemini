{
  "nbformat": 4,
  "nbformat_minor": 0,
  "metadata": {
    "colab": {
      "provenance": [],
      "authorship_tag": "ABX9TyOfn1NH6NkE+KS/BWG7+kl3",
      "include_colab_link": true
    },
    "kernelspec": {
      "name": "python3",
      "display_name": "Python 3"
    },
    "language_info": {
      "name": "python"
    }
  },
  "cells": [
    {
      "cell_type": "markdown",
      "metadata": {
        "id": "view-in-github",
        "colab_type": "text"
      },
      "source": [
        "<a href=\"https://colab.research.google.com/github/MarogobaCTD/Gemini/blob/main/ChatGemini.ipynb\" target=\"_parent\"><img src=\"https://colab.research.google.com/assets/colab-badge.svg\" alt=\"Open In Colab\"/></a>"
      ]
    },
    {
      "cell_type": "markdown",
      "source": [
        "Instalando o SDK do Google"
      ],
      "metadata": {
        "id": "6d14iLo94pk1"
      }
    },
    {
      "cell_type": "code",
      "execution_count": null,
      "metadata": {
        "id": "shK5VEhp34mg"
      },
      "outputs": [],
      "source": [
        "!pip install -q -U google-generativeai"
      ]
    },
    {
      "cell_type": "code",
      "source": [
        "import google.generativeai as genai\n",
        "from google.colab import userdata\n",
        "api_key = userdata.get('SECRET_KEY')\n",
        "genai.configure(api_key=api_key)"
      ],
      "metadata": {
        "id": "rJbU3PRJ43Ga"
      },
      "execution_count": null,
      "outputs": []
    },
    {
      "cell_type": "markdown",
      "source": [
        "Listar os modelos disponíveis"
      ],
      "metadata": {
        "id": "KfLPLaDL5BvP"
      }
    },
    {
      "cell_type": "code",
      "source": [
        "for m in genai.list_models():\n",
        "  if 'generateContent' in m.supported_generation_methods:\n",
        "    print(m.name)"
      ],
      "metadata": {
        "colab": {
          "base_uri": "https://localhost:8080/",
          "height": 139
        },
        "id": "OvCot83d4-_P",
        "outputId": "e537b940-d7d2-4b17-f205-640f1d5e8640"
      },
      "execution_count": null,
      "outputs": [
        {
          "output_type": "stream",
          "name": "stdout",
          "text": [
            "models/gemini-1.0-pro\n",
            "models/gemini-1.0-pro-001\n",
            "models/gemini-1.0-pro-latest\n",
            "models/gemini-1.0-pro-vision-latest\n",
            "models/gemini-1.5-pro-latest\n",
            "models/gemini-pro\n",
            "models/gemini-pro-vision\n"
          ]
        }
      ]
    },
    {
      "cell_type": "markdown",
      "source": [
        "Configurações do prompt"
      ],
      "metadata": {
        "id": "BGCQUbNv8ZFt"
      }
    },
    {
      "cell_type": "code",
      "source": [
        "configuracoes = {\n",
        "  \"candidate_count\": 1,\n",
        "  \"temperature\": 0.5,\n",
        "}"
      ],
      "metadata": {
        "id": "qVDETYuQ7R6X"
      },
      "execution_count": null,
      "outputs": []
    },
    {
      "cell_type": "code",
      "source": [
        "safety_settings = {\n",
        "    \"HARASSMENT\" : \"Block_none\",\n",
        "    \"HATE\" : \"Block_none\",\n",
        "    \"SEXUAL\" : \"Block_none\",\n",
        "    \"DANGEROUS\" : \"Block_none\",\n",
        "}"
      ],
      "metadata": {
        "id": "4YtF4taR7w4M"
      },
      "execution_count": null,
      "outputs": []
    },
    {
      "cell_type": "markdown",
      "source": [
        "Inicializando o modelo"
      ],
      "metadata": {
        "id": "B9IBJjYU8dwZ"
      }
    },
    {
      "cell_type": "code",
      "source": [
        "model = genai.GenerativeModel(model_name='gemini-1.0-pro',\n",
        "                              safety_settings=safety_settings,\n",
        "                              generation_config=configuracoes,)"
      ],
      "metadata": {
        "id": "L4yzlSRN8XxS"
      },
      "execution_count": null,
      "outputs": []
    },
    {
      "cell_type": "code",
      "source": [
        "response = model.generate_content(\"Vamos aprender conteúdo sobre IA. Me dê sugestões.\")\n",
        "print(response.text)"
      ],
      "metadata": {
        "colab": {
          "base_uri": "https://localhost:8080/",
          "height": 746
        },
        "id": "aLbIy0LH-D0e",
        "outputId": "44e9dfae-1e5c-43ef-9245-52d2f9f2ae89"
      },
      "execution_count": null,
      "outputs": [
        {
          "output_type": "stream",
          "name": "stdout",
          "text": [
            "**Introdução à IA**\n",
            "\n",
            "* Definição e história da IA\n",
            "* Tipos de IA (fraca, forte, geral)\n",
            "* Aplicações da IA em vários setores\n",
            "\n",
            "**Aprendizado de Máquina**\n",
            "\n",
            "* Conceitos básicos de aprendizado de máquina\n",
            "* Tipos de aprendizado de máquina (supervisionado, não supervisionado, por reforço)\n",
            "* Algoritmos de aprendizado de máquina comuns (regressão, classificação, agrupamento)\n",
            "\n",
            "**Aprendizado Profundo**\n",
            "\n",
            "* Redes neurais e redes neurais profundas\n",
            "* Arquiteturas de rede neural (CNN, RNN, LSTM)\n",
            "* Aplicações de aprendizado profundo (visão computacional, processamento de linguagem natural)\n",
            "\n",
            "**Processamento de Linguagem Natural (PNL)**\n",
            "\n",
            "* Conceitos básicos de PNL\n",
            "* Tarefas de PNL (análise de sentimento, tradução de idiomas, geração de texto)\n",
            "* Técnicas de PNL (tokenização, lematização, análise sintática)\n",
            "\n",
            "**Visão Computacional**\n",
            "\n",
            "* Conceitos básicos de visão computacional\n",
            "* Tarefas de visão computacional (detecção de objetos, reconhecimento de imagem, segmentação de imagem)\n",
            "* Técnicas de visão computacional (convoluções, redes neurais)\n",
            "\n",
            "**Ética e Implicações Sociais da IA**\n",
            "\n",
            "* Preocupações éticas com a IA (viés, privacidade, desemprego)\n",
            "* Implicações sociais da IA (automação, melhoria humana)\n",
            "* Regulamentos e políticas sobre IA\n",
            "\n",
            "**Recursos de Aprendizagem**\n",
            "\n",
            "* Cursos online (Coursera, edX, Udemy)\n",
            "* Livros e artigos de pesquisa\n",
            "* Conferências e workshops\n",
            "* Comunidades online e fóruns\n"
          ]
        }
      ]
    },
    {
      "cell_type": "code",
      "source": [
        "chat = model.start_chat(history=[])"
      ],
      "metadata": {
        "id": "irP--_EnEJqj"
      },
      "execution_count": null,
      "outputs": []
    },
    {
      "cell_type": "code",
      "source": [
        "texto = input('Digite a sua pergunta: ')\n",
        "\n",
        "while texto != \"fim\":\n",
        "  response = chat.send_message(texto)\n",
        "  print(response.text)\n",
        "  texto = input('Digite a sua pergunta: ')"
      ],
      "metadata": {
        "colab": {
          "base_uri": "https://localhost:8080/",
          "height": 69
        },
        "id": "8I9Q5PkCEhBX",
        "outputId": "395f8f13-9b19-4f17-cd39-d601b02315fb"
      },
      "execution_count": null,
      "outputs": [
        {
          "name": "stdout",
          "output_type": "stream",
          "text": [
            "Digite a sua pergunta: oi\n",
            "Olá! Como posso ajudá-lo hoje?\n",
            "Digite a sua pergunta: fim\n"
          ]
        }
      ]
    },
    {
      "cell_type": "code",
      "source": [
        "#Melhorando a visualização\n",
        "#Código disponível em https://ai.google.dev/tutorials/python_quickstart#import_packages\n",
        "import textwrap\n",
        "from IPython.display import display\n",
        "from IPython.display import Markdown\n",
        "\n",
        "def to_markdown(text):\n",
        "  text = text.replace('•', '  *')\n",
        "  return Markdown(textwrap.indent(text, '> ', predicate=lambda _: True))\n",
        "\n",
        "#Imprimindo o histórico\n",
        "for message in chat.history:\n",
        "  display(to_markdown(f'**{message.role}**: {message.parts[0].text}'))\n",
        "  print('-------------------------------------------')"
      ],
      "metadata": {
        "colab": {
          "base_uri": "https://localhost:8080/",
          "height": 142
        },
        "id": "VGXN2GytJYq4",
        "outputId": "19d3a83c-0b99-4972-d0c3-0e272ccb44bb"
      },
      "execution_count": null,
      "outputs": [
        {
          "output_type": "display_data",
          "data": {
            "text/plain": [
              "<IPython.core.display.Markdown object>"
            ],
            "text/markdown": "> **user**: oi"
          },
          "metadata": {}
        },
        {
          "output_type": "stream",
          "name": "stdout",
          "text": [
            "-------------------------------------------\n"
          ]
        },
        {
          "output_type": "display_data",
          "data": {
            "text/plain": [
              "<IPython.core.display.Markdown object>"
            ],
            "text/markdown": "> **model**: Olá! Como posso ajudá-lo hoje?"
          },
          "metadata": {}
        },
        {
          "output_type": "stream",
          "name": "stdout",
          "text": [
            "-------------------------------------------\n"
          ]
        }
      ]
    }
  ]
}