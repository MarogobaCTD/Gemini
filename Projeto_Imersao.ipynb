{
  "nbformat": 4,
  "nbformat_minor": 0,
  "metadata": {
    "colab": {
      "private_outputs": true,
      "provenance": [],
      "authorship_tag": "ABX9TyMS/Lbue3Dxdz6nhz00zkRe",
      "include_colab_link": true
    },
    "kernelspec": {
      "name": "python3",
      "display_name": "Python 3"
    },
    "language_info": {
      "name": "python"
    }
  },
  "cells": [
    {
      "cell_type": "markdown",
      "metadata": {
        "id": "view-in-github",
        "colab_type": "text"
      },
      "source": [
        "<a href=\"https://colab.research.google.com/github/MarogobaCTD/Gemini/blob/main/Projeto_Imersao.ipynb\" target=\"_parent\"><img src=\"https://colab.research.google.com/assets/colab-badge.svg\" alt=\"Open In Colab\"/></a>"
      ]
    },
    {
      "cell_type": "code",
      "execution_count": null,
      "metadata": {
        "collapsed": true,
        "id": "NbL-OmyfcPnv"
      },
      "outputs": [],
      "source": [
        "!pip install ipywidgets"
      ]
    },
    {
      "cell_type": "code",
      "source": [
        "#Importação das bibliotecas e autenticação\n",
        "import os\n",
        "import io\n",
        "import pandas as pd\n",
        "import numpy as np\n",
        "import ipywidgets as widgets\n",
        "import google.generativeai as genai\n",
        "from IPython.display import display\n",
        "from google.colab import userdata\n",
        "from google.colab import output\n",
        "api_key = userdata.get('SECRET_KEY')\n",
        "genai.configure(api_key=api_key)\n",
        "\n",
        "lista_arquivo = {}"
      ],
      "metadata": {
        "id": "lfEYTiBAcQwh"
      },
      "execution_count": null,
      "outputs": []
    },
    {
      "cell_type": "code",
      "source": [
        "# Informações para o modelo\n",
        "generation_config = {\n",
        "  \"temperature\": 0.9,\n",
        "  \"top_p\": 1,\n",
        "  \"top_k\": 0,\n",
        "  \"max_output_tokens\": 2048,\n",
        "}\n",
        "\n",
        "safety_settings = [\n",
        "  {\n",
        "    \"category\": \"HARM_CATEGORY_HARASSMENT\",\n",
        "    \"threshold\": \"BLOCK_MEDIUM_AND_ABOVE\"\n",
        "  },\n",
        "  {\n",
        "    \"category\": \"HARM_CATEGORY_HATE_SPEECH\",\n",
        "    \"threshold\": \"BLOCK_MEDIUM_AND_ABOVE\"\n",
        "  },\n",
        "  {\n",
        "    \"category\": \"HARM_CATEGORY_SEXUALLY_EXPLICIT\",\n",
        "    \"threshold\": \"BLOCK_MEDIUM_AND_ABOVE\"\n",
        "  },\n",
        "  {\n",
        "    \"category\": \"HARM_CATEGORY_DANGEROUS_CONTENT\",\n",
        "    \"threshold\": \"BLOCK_MEDIUM_AND_ABOVE\"\n",
        "  },\n",
        "]\n",
        "\n",
        "model = genai.GenerativeModel(model_name=\"gemini-1.0-pro\",\n",
        "                              generation_config=generation_config,\n",
        "                              safety_settings=safety_settings)"
      ],
      "metadata": {
        "id": "pWNZlf0GTGwM"
      },
      "execution_count": null,
      "outputs": []
    },
    {
      "cell_type": "code",
      "source": [
        "def upload_arquivo():\n",
        "\n",
        "  def on_button_clicked(change):\n",
        "      try:\n",
        "          #recuperando as informações do arquivo\n",
        "          arquivo = uploaded_file.value[0]\n",
        "          #print(arquivo)\n",
        "          chave_nome = arquivo['name']\n",
        "          #lista_arquivo.pop(chave_nome)\n",
        "          total = len(arquivo['content'])\n",
        "          #verificando se já existe um arquivo com o mesmo nome\n",
        "          #e gravar um seguencial\n",
        "          nome_arquivo = pega_arquivo(chave_nome)\n",
        "          if (nome_arquivo != chave_nome):\n",
        "              print('Saved {antigo} to {novo}'.format(\n",
        "                  antigo=chave_nome, novo=os.getcwd() + '/' + nome_arquivo))\n",
        "          #print('passou')\n",
        "          #preparando a progressão para agravação do arquivo\n",
        "          prog = widgets.IntProgress(value=0,\n",
        "                                      min=0,\n",
        "                                      max=total,\n",
        "                                      description = 'Carregando...',\n",
        "                                      bar_style='success',\n",
        "                                      orientation='horizontal')\n",
        "          display(prog)\n",
        "\n",
        "          #Criando o arquivo localmente\n",
        "          with open(nome_arquivo, 'wb') as f:\n",
        "            for i in range(0, len(arquivo['content']), 1024):\n",
        "              # Obtenha um pedaço do conteúdo\n",
        "              data = arquivo['content'][i:i+1024]\n",
        "              f.write(data)\n",
        "              prog.value += len(data)\n",
        "          iniciar_chat()\n",
        "      except Exception as e:\n",
        "          print(e)\n",
        "\n",
        "  def pega_arquivo(nomeArquivo):\n",
        "      if not os.path.lexists(nomeArquivo):\n",
        "          return nomeArquivo\n",
        "      counter = 1\n",
        "      while True:\n",
        "          path, ext = os.path.splitext(nomeArquivo)\n",
        "          novo_nome = '{} ({}){}'.format(path, counter, ext)\n",
        "          if not os.path.lexists(novo_nome):\n",
        "              return novo_nome\n",
        "          counter += 1\n",
        "\n",
        "  # Determinando o arquivo que será importado\n",
        "  uploaded_file = widgets.FileUpload(\n",
        "      accept='*',\n",
        "      multiple=False)\n",
        "\n",
        "  button = widgets.Button(\n",
        "      description='Enviar',\n",
        "      button_style='success')\n",
        "\n",
        "  button.on_click(on_button_clicked)\n",
        "\n",
        "  display(uploaded_file, button)"
      ],
      "metadata": {
        "id": "fU1SXSR-DOzT"
      },
      "execution_count": null,
      "outputs": []
    },
    {
      "cell_type": "code",
      "source": [
        "upload = {\n",
        "    \"funcao\": \"upload_arquivo\",\n",
        "    \"parametros\": \"uploaded_file, button\"}\n",
        "\n",
        "download = {\n",
        "    \"funcao\": \"download_arquivo\",\n",
        "    \"parametros\": \"filename\"}\n",
        "\n",
        "documents = [upload, download]"
      ],
      "metadata": {
        "id": "xuOOkKxnKwnn"
      },
      "execution_count": null,
      "outputs": []
    },
    {
      "cell_type": "code",
      "source": [
        "df = pd.DataFrame(documents)\n",
        "df.columns = [\"funcao\", \"parametros\"]\n",
        "df"
      ],
      "metadata": {
        "id": "0wiwJ6O_K8j_"
      },
      "execution_count": null,
      "outputs": []
    },
    {
      "cell_type": "code",
      "source": [
        "modelo_funcao = \"models/embedding-001\"\n",
        "def embed_fn(title, text):\n",
        "  return genai.embed_content(model=modelo_funcao,\n",
        "                             content=text,\n",
        "                             title=title,\n",
        "                             task_type=\"RETRIEVAL_DOCUMENT\")[\"embedding\"]"
      ],
      "metadata": {
        "id": "QAIvv-iALsMl"
      },
      "execution_count": null,
      "outputs": []
    },
    {
      "cell_type": "code",
      "source": [
        "df[\"Embeddings\"] = df.apply(lambda row: embed_fn(row[\"funcao\"], row[\"parametros\"]), axis=1)\n",
        "df"
      ],
      "metadata": {
        "collapsed": true,
        "id": "1oM_a-kpLzq0"
      },
      "execution_count": null,
      "outputs": []
    },
    {
      "cell_type": "code",
      "source": [
        "def buscar_a_funcao_exibir(consulta, base, model):\n",
        "  embedding_da_consulta = genai.embed_content(model=modelo_funcao,\n",
        "                                 content=consulta,\n",
        "                                 task_type=\"RETRIEVAL_QUERY\")[\"embedding\"]\n",
        "\n",
        "  produtos_escalares = np.dot(np.stack(df[\"Embeddings\"]), embedding_da_consulta)\n",
        "  indice = np.argmax(produtos_escalares)\n",
        "  if (df.iloc[indice][\"funcao\"] == 'upload_arquivo'):\n",
        "    print('Pode agora subir com os seus arquivos!')\n",
        "    upload_arquivo()\n",
        "    return 1\n",
        "  else:\n",
        "    if (df.iloc[indice][\"funcao\"] == 'download_arquivo'):\n",
        "        download_arquivo()\n",
        "        print('Baixando o arquivo!')\n",
        "        return 1\n",
        "    else:\n",
        "         print('Vou buscar no gemini!')\n",
        "         return 0\n",
        ""
      ],
      "metadata": {
        "id": "3ssyG8RqMIJ0"
      },
      "execution_count": null,
      "outputs": []
    },
    {
      "cell_type": "code",
      "source": [
        "consulta = \"Quero fazer um upload?\"\n",
        "\n",
        "retorno = buscar_a_funcao_exibir(consulta, df, model)\n",
        "#print(retorno)"
      ],
      "metadata": {
        "id": "YDY6aH7FM1RZ"
      },
      "execution_count": null,
      "outputs": []
    },
    {
      "cell_type": "code",
      "source": [
        "for m in genai.list_models():\n",
        "  if 'generateContent' in m.supported_generation_methods:\n",
        "    print(m.name)"
      ],
      "metadata": {
        "id": "T7_mQtq4HP39"
      },
      "execution_count": null,
      "outputs": []
    },
    {
      "cell_type": "code",
      "source": [
        "model = genai.GenerativeModel(model_name='gemini-1.5-pro-latest',\n",
        "                              safety_settings=safety_settings,\n",
        "                              generation_config=generation_config,)"
      ],
      "metadata": {
        "id": "rJYvxDhjIxa8"
      },
      "execution_count": null,
      "outputs": []
    },
    {
      "cell_type": "code",
      "source": [
        "chat = model.start_chat(history=[])"
      ],
      "metadata": {
        "id": "PZEsKLKdJW4x"
      },
      "execution_count": null,
      "outputs": []
    },
    {
      "cell_type": "code",
      "source": [
        "def iniciar_chat():\n",
        "  texto = input('Digite a sua pergunta: ')\n",
        "\n",
        "  while texto != \"fim\":\n",
        "    if (buscar_a_funcao_exibir(consulta, df, model)) == 1:\n",
        "       texto = 'fim'\n",
        "    else :\n",
        "      response = chat.send_message(texto)\n",
        "      print(response.text)\n",
        "      texto = input('Digite a sua pergunta: ')"
      ],
      "metadata": {
        "id": "GC3ELIheJXrR"
      },
      "execution_count": null,
      "outputs": []
    },
    {
      "cell_type": "code",
      "source": [
        "iniciar_chat()"
      ],
      "metadata": {
        "id": "BxshrJQ2UqEn"
      },
      "execution_count": null,
      "outputs": []
    }
  ]
}